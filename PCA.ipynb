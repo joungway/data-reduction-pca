{
  "nbformat": 4,
  "nbformat_minor": 0,
  "metadata": {
    "colab": {
      "provenance": []
    },
    "kernelspec": {
      "name": "python3",
      "display_name": "Python 3"
    },
    "language_info": {
      "name": "python"
    }
  },
  "cells": [
    {
      "cell_type": "markdown",
      "source": [
        "# Question 1: Principle Components Analysis\n",
        "This program generates a scatter plot of the wine data projected onto the first two principle components with different colors for each class of wine, where red, green, and blue represent different classes"
      ],
      "metadata": {
        "id": "FLEc0WQNrJw3"
      }
    },
    {
      "cell_type": "code",
      "execution_count": 3,
      "metadata": {
        "colab": {
          "base_uri": "https://localhost:8080/"
        },
        "id": "qufTxQuVqluu",
        "outputId": "87a3f317-2d93-4065-842e-b3d26465a599"
      },
      "outputs": [
        {
          "output_type": "stream",
          "name": "stdout",
          "text": [
            "X shape: (178, 13)\n",
            "y shape: (178,)\n"
          ]
        }
      ],
      "source": [
        "import matplotlib.pyplot as plt\n",
        "import numpy as np\n",
        "from sklearn.decomposition import PCA\n",
        "from sklearn.datasets import load_wine\n",
        "from sklearn.preprocessing import StandardScaler\n",
        "\n",
        "# Load the wine dataset\n",
        "data = load_wine()\n",
        "X = data['data']\n",
        "y = data['target']\n",
        "print(\"X shape:\", X.shape)\n",
        "print(\"y shape:\", y.shape)"
      ]
    },
    {
      "cell_type": "markdown",
      "source": [
        "### Normalize the data using z-score normalization"
      ],
      "metadata": {
        "id": "ijs2vplI49pA"
      }
    },
    {
      "cell_type": "code",
      "source": [
        "# Create the object\n",
        "scaler = StandardScaler() \n",
        "# Calculate the mean and standard deviation\n",
        "scaler.fit(X)\n",
        "# Transform the value\n",
        "x_scalered = scaler.transform(X)\n",
        "print(x_scalered)"
      ],
      "metadata": {
        "colab": {
          "base_uri": "https://localhost:8080/"
        },
        "id": "kNKOzepVrQ4H",
        "outputId": "7c62e474-1b39-4d29-f81c-df2df915ec11"
      },
      "execution_count": 6,
      "outputs": [
        {
          "output_type": "stream",
          "name": "stdout",
          "text": [
            "[[ 1.51861254 -0.5622498   0.23205254 ...  0.36217728  1.84791957\n",
            "   1.01300893]\n",
            " [ 0.24628963 -0.49941338 -0.82799632 ...  0.40605066  1.1134493\n",
            "   0.96524152]\n",
            " [ 0.19687903  0.02123125  1.10933436 ...  0.31830389  0.78858745\n",
            "   1.39514818]\n",
            " ...\n",
            " [ 0.33275817  1.74474449 -0.38935541 ... -1.61212515 -1.48544548\n",
            "   0.28057537]\n",
            " [ 0.20923168  0.22769377  0.01273209 ... -1.56825176 -1.40069891\n",
            "   0.29649784]\n",
            " [ 1.39508604  1.58316512  1.36520822 ... -1.52437837 -1.42894777\n",
            "  -0.59516041]]\n"
          ]
        }
      ]
    },
    {
      "cell_type": "markdown",
      "source": [
        "### Apply PCA by setting n_components=2"
      ],
      "metadata": {
        "id": "grd7cXdH5mam"
      }
    },
    {
      "cell_type": "code",
      "source": [
        "# Perform PCA\n",
        "pca = PCA(n_components=2)\n",
        "X_pca = pca.fit_transform(X)\n",
        "print(X_pca)"
      ],
      "metadata": {
        "colab": {
          "base_uri": "https://localhost:8080/"
        },
        "id": "RJuyYqzK3xO5",
        "outputId": "3c7fb7f3-a3f6-4b0c-f036-f5acd7a50e0d"
      },
      "execution_count": 8,
      "outputs": [
        {
          "output_type": "stream",
          "name": "stdout",
          "text": [
            "[[ 3.18562979e+02  2.14921307e+01]\n",
            " [ 3.03097420e+02 -5.36471768e+00]\n",
            " [ 4.38061133e+02 -6.53730945e+00]\n",
            " [ 7.33240139e+02  1.92729032e-01]\n",
            " [-1.15714285e+01  1.84899946e+01]\n",
            " [ 7.03231192e+02 -3.32158674e-01]\n",
            " [ 5.42971581e+02 -1.35189666e+01]\n",
            " [ 5.48401860e+02  1.14494324e+01]\n",
            " [ 2.98036863e+02 -8.18015784e+00]\n",
            " [ 2.98049553e+02 -7.10154294e+00]\n",
            " [ 7.63079712e+02 -8.33431723e+00]\n",
            " [ 5.32943228e+02 -1.42876338e+01]\n",
            " [ 5.72834410e+02 -2.10050143e+01]\n",
            " [ 4.02925358e+02 -1.61026352e+01]\n",
            " [ 8.00053394e+02 -1.21184472e+01]\n",
            " [ 5.63245578e+02  2.21482866e+00]\n",
            " [ 5.33379651e+02  1.08048022e+01]\n",
            " [ 3.83317591e+02  8.47741982e+00]\n",
            " [ 9.33118387e+02 -8.35447844e+00]\n",
            " [ 9.84031775e+01  1.43926594e+01]\n",
            " [ 3.35935940e+01  2.55679565e+01]\n",
            " [ 2.31464375e+01  1.81747309e+00]\n",
            " [ 2.88093030e+02 -3.96304175e+00]\n",
            " [ 2.67981513e+02 -9.57070401e+00]\n",
            " [ 9.80198858e+01 -5.49584606e+00]\n",
            " [ 8.34987440e+01  2.28916215e+01]\n",
            " [ 4.47925596e+02 -1.47973313e+01]\n",
            " [ 5.37919165e+02 -1.53883461e+01]\n",
            " [ 1.68210468e+02  4.25531096e+00]\n",
            " [ 2.88008247e+02 -8.95973155e+00]\n",
            " [ 5.38026452e+02 -8.21273882e+00]\n",
            " [ 7.68092939e+02 -7.37989737e+00]\n",
            " [ 2.43150751e+02 -1.43914928e-01]\n",
            " [ 4.88601280e+02  2.35653250e+01]\n",
            " [ 3.48231007e+02  4.03808015e+00]\n",
            " [ 1.73079957e+02 -2.79292165e+00]\n",
            " [ 1.33286424e+02  7.77272958e+00]\n",
            " [ 3.58018559e+02 -8.15798412e+00]\n",
            " [ 2.73044432e+02 -6.72507431e+00]\n",
            " [ 1.36430021e+01  2.78468321e+01]\n",
            " [ 4.84296422e+01  1.63219498e+01]\n",
            " [ 2.87884092e+02 -1.48851185e+01]\n",
            " [ 3.48095348e+02 -5.04342609e+00]\n",
            " [-6.68146554e+01  4.38482992e+00]\n",
            " [ 1.38227010e+02  4.73068836e+00]\n",
            " [ 3.33254806e+02  5.31933116e+00]\n",
            " [ 3.18111848e+02 -3.48694494e+00]\n",
            " [ 2.38111485e+02 -3.05152100e+00]\n",
            " [ 3.13119915e+02 -2.30536316e+00]\n",
            " [ 5.13187748e+02 -8.63759235e-01]\n",
            " [ 4.02939017e+02 -1.50533028e+01]\n",
            " [ 5.17928963e+02 -1.49975549e+01]\n",
            " [ 4.43266411e+02  3.26050204e+00]\n",
            " [ 6.28286071e+02  4.04114538e+00]\n",
            " [ 3.13397613e+02  1.26089135e+01]\n",
            " [ 3.73333291e+02  9.66419863e+00]\n",
            " [ 2.23417106e+02  1.42168924e+01]\n",
            " [ 5.23072851e+02 -7.09662526e+00]\n",
            " [ 5.38182097e+02 -1.35678013e+00]\n",
            " [-2.27032690e+02 -7.99496797e+00]\n",
            " [-6.68501220e+01  2.31986654e+00]\n",
            " [-2.96824437e+02  5.46847570e+00]\n",
            " [-1.16970473e+02 -3.72638342e+00]\n",
            " [-3.27059126e+02 -6.94813081e+00]\n",
            " [-3.91752486e+02  1.11716783e+01]\n",
            " [-6.89057604e+01 -5.58620537e-01]\n",
            " [-2.45212524e+02 -1.74936393e+01]\n",
            " [-2.37241410e+02 -1.75310256e+01]\n",
            " [ 3.29615599e+00  1.00958116e+01]\n",
            " [-2.79661207e+01  5.16301252e+01]\n",
            " [ 1.23130138e+02  1.05983451e+00]\n",
            " [-3.37104122e+02 -7.62385512e+00]\n",
            " [-2.75096026e+02 -7.75315213e+00]\n",
            " [ 2.38716757e+02  3.52518274e+01]\n",
            " [ 1.39094057e+02 -1.20747620e+00]\n",
            " [-3.18876329e+02  2.81077113e+00]\n",
            " [-3.55060253e+02 -7.53070183e+00]\n",
            " [-2.46633597e+02  1.65584367e+01]\n",
            " [ 3.77168966e+00  3.60310924e+01]\n",
            " [-2.83842248e+02  6.36186080e+00]\n",
            " [-4.69059350e+02 -5.45892398e+00]\n",
            " [-3.31313392e+01 -1.31871050e+01]\n",
            " [-1.17290392e+02 -1.95786125e+01]\n",
            " [-2.32132988e+02 -1.05301033e+01]\n",
            " [-2.26953299e+02 -1.77605879e+00]\n",
            " [-2.96852152e+02  4.45280309e+00]\n",
            " [-2.52046392e+02 -5.21261759e+00]\n",
            " [-1.85108857e+02 -8.31858202e+00]\n",
            " [-6.71807518e+01 -1.45246902e+01]\n",
            " [-1.22431326e+02 -2.75040387e+01]\n",
            " [-2.67185333e+02 -1.40538901e+01]\n",
            " [-2.97104415e+02 -8.41503161e+00]\n",
            " [-2.52213885e+02 -1.52515702e+01]\n",
            " [-4.57022215e+02 -3.69733793e+00]\n",
            " [-4.01851274e+02  5.33140022e+00]\n",
            " [ 1.91183397e+02  5.87937624e+01]\n",
            " [-1.21279178e+02  3.64175149e+01]\n",
            " [-3.19088273e+02 -9.19307820e+00]\n",
            " [-8.70802926e+01 -1.02265727e+01]\n",
            " [-3.41040900e+02 -5.75056559e+00]\n",
            " [-3.69316146e+01 -2.17041593e+00]\n",
            " [-1.85073713e+02 -8.52051902e+00]\n",
            " [-3.08882387e+02  3.75165655e+00]\n",
            " [-3.32089296e+02 -7.88372875e+00]\n",
            " [-7.51531378e+01 -1.34138279e+01]\n",
            " [-4.32009742e+02 -2.03294673e+00]\n",
            " [-2.37206697e+02 -1.55619679e+01]\n",
            " [-2.59148368e+02 -1.10788163e+01]\n",
            " [-4.34957780e+02 -5.95260295e-02]\n",
            " [-6.69906958e+01 -4.57145764e+00]\n",
            " [-1.84736439e+02  1.05164632e+01]\n",
            " [-4.22042874e+02 -4.24492194e+00]\n",
            " [-1.39818663e+02  5.73555207e+00]\n",
            " [-3.13060948e+02 -6.16709401e+00]\n",
            " [-3.62129633e+02 -9.25929540e+00]\n",
            " [-3.40115006e+02 -8.68973443e+00]\n",
            " [-2.52109472e+02 -9.27587015e+00]\n",
            " [-4.01695973e+02  1.54258903e+01]\n",
            " [-3.75171092e+02 -1.31850503e+01]\n",
            " [-1.83097929e+02 -9.55354432e+00]\n",
            " [-1.21945241e+02 -1.58889428e+00]\n",
            " [-2.81534569e+02  2.45082612e+01]\n",
            " [-3.81826778e+02  9.18910976e+00]\n",
            " [-3.67089380e+02 -7.18821589e+00]\n",
            " [-3.67157175e+02 -1.11963202e+01]\n",
            " [-3.69103601e+02 -8.17580491e+00]\n",
            " [-3.95078836e+02 -6.67983187e+00]\n",
            " [-2.81030369e+02 -2.53586007e+00]\n",
            " [-4.05061288e+02 -4.45107367e+00]\n",
            " [-1.67237642e+02 -1.67311857e+01]\n",
            " [-1.16473000e+02  2.42660201e+01]\n",
            " [-2.16784540e+02  8.13044956e+00]\n",
            " [-1.86915112e+02  1.71005736e+00]\n",
            " [-1.46769530e+02  8.92033411e+00]\n",
            " [-9.71329736e+01 -1.30582838e+01]\n",
            " [-5.19820469e+01 -4.81229310e+00]\n",
            " [-2.70979307e+01 -1.02299962e+01]\n",
            " [-2.31951534e+02  5.34907410e-01]\n",
            " [-1.67076246e+02 -8.75672311e+00]\n",
            " [-1.56868045e+02  4.16316249e+00]\n",
            " [-1.46946490e+02 -1.09672896e+00]\n",
            " [ 3.29042927e+01 -1.13053656e+01]\n",
            " [-2.26926210e+02  1.38827837e+00]\n",
            " [-1.97004347e+02 -4.22842870e+00]\n",
            " [ 1.08312677e+02  1.03513304e+01]\n",
            " [ 8.31182626e+01  8.06869695e-01]\n",
            " [-3.32195840e+02 -1.38132989e+01]\n",
            " [-1.22126092e+02 -1.14699259e+01]\n",
            " [-9.70193893e+01 -5.90644258e+00]\n",
            " [-1.96624807e+02  1.68731139e+01]\n",
            " [-2.46449199e+02  2.78100954e+01]\n",
            " [-2.66628788e+02  1.71502320e+01]\n",
            " [-3.21570741e+02  2.21643401e+01]\n",
            " [-7.18976587e+01 -3.99656400e-01]\n",
            " [-1.06816618e+02  5.20612307e+00]\n",
            " [-2.20202568e+01 -6.22943925e+00]\n",
            " [-2.67031732e+02 -5.92308914e+00]\n",
            " [ 1.32999841e+02 -4.86770544e+00]\n",
            " [-8.69139986e+01  7.96357772e-02]\n",
            " [-1.27061290e+02 -8.29141684e+00]\n",
            " [-2.27068836e+02 -7.61863030e+00]\n",
            " [-6.67554312e+01  8.47028990e+00]\n",
            " [-1.76765098e+02  9.47319000e+00]\n",
            " [-7.17683979e+01  7.51063784e+00]\n",
            " [-1.32048248e+02 -7.25503031e+00]\n",
            " [-2.27077845e+02 -7.59337930e+00]\n",
            " [-5.16895065e+01  1.23580850e+01]\n",
            " [-6.20850111e+01 -1.05540153e+01]\n",
            " [ 3.18276465e+00  5.39136150e+00]\n",
            " [-1.16674818e+02  1.45333703e+01]\n",
            " [-2.36921208e+02  4.63036998e-01]\n",
            " [-2.77083578e+02 -8.74033191e+00]\n",
            " [-8.70274026e+01 -7.10459575e+00]\n",
            " [-6.98021096e+00 -4.54113657e+00]\n",
            " [ 3.13160468e+00  2.33519051e+00]\n",
            " [ 8.84580737e+01  1.87762846e+01]\n",
            " [ 9.34562419e+01  1.86708191e+01]\n",
            " [-1.86943190e+02 -2.13330803e-01]]\n"
          ]
        }
      ]
    },
    {
      "cell_type": "markdown",
      "source": [
        "### Visualize the output"
      ],
      "metadata": {
        "id": "mHXC3ha16m-u"
      }
    },
    {
      "cell_type": "code",
      "source": [
        "# Plot the data projected onto the first two principle components\n",
        "colors = ['red', 'green', 'blue']\n",
        "for target, color in zip(np.unique(y), colors):\n",
        "    mask = y == target\n",
        "    plt.scatter(X_pca[mask, 0], X_pca[mask, 1], c=color, label=f'Class {target + 1}')\n",
        "plt.legend()\n",
        "plt.show()"
      ],
      "metadata": {
        "colab": {
          "base_uri": "https://localhost:8080/",
          "height": 265
        },
        "id": "tGwSxrEn30vB",
        "outputId": "e070a536-6247-4cb9-a06e-d633a5a02f55"
      },
      "execution_count": 9,
      "outputs": [
        {
          "output_type": "display_data",
          "data": {
            "text/plain": [
              "<Figure size 432x288 with 1 Axes>"
            ],
            "image/png": "[encoded data removed]"
          },
          "metadata": {
            "needs_background": "light"
          }
        }
      ]
    }
  ]
}